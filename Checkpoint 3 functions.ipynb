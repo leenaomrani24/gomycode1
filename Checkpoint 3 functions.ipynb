{
 "cells": [
  {
   "cell_type": "code",
   "execution_count": 98,
   "id": "2c582d6a",
   "metadata": {},
   "outputs": [
    {
     "name": "stdout",
     "output_type": "stream",
     "text": [
      "15\n"
     ]
    }
   ],
   "source": [
    "#question 1\n",
    "#Write a Python function to find the Max of three numbersfor example, the max of these three numbers 20, 35, 19 is 35\n",
    "\n",
    "def max(a,b):\n",
    "    if a > b :\n",
    "        return a\n",
    "    return b \n",
    "def max_of_three(a,b,c):\n",
    "    return max(a,max(b,c))\n",
    "print(max_of_three(15,8,0))"
   ]
  },
  {
   "cell_type": "code",
   "execution_count": 89,
   "id": "22592231",
   "metadata": {},
   "outputs": [
    {
     "name": "stdout",
     "output_type": "stream",
     "text": [
      "10\n",
      "20\n",
      "10 20\n"
     ]
    }
   ],
   "source": [
    "#question 2\n",
    "#Write a function calculation() such that it can accept two variables and calculate the addition and \n",
    "#subtraction of it. And also it must return both addition and subtraction in a single return call\n",
    "#For example:\n",
    "#calculation(40, 10) should produce 50, 30\n",
    "\n",
    "\n",
    "sum=lambda a,b: a - b \n",
    "print(sum(15,5))\n",
    "substract=lambda a,b : a + b \n",
    "print(substract(15,5))\n",
    "print(sum(15,5), substract(15,5))"
   ]
  },
  {
   "cell_type": "code",
   "execution_count": 93,
   "id": "399cf517",
   "metadata": {},
   "outputs": [
    {
     "data": {
      "text/plain": [
       "[6, 11, 13]"
      ]
     },
     "execution_count": 93,
     "metadata": {},
     "output_type": "execute_result"
    }
   ],
   "source": [
    "#question 3\n",
    "#* Write a function that sums the elements of a list of integers.\n",
    "tuple1=[2,6,7]\n",
    "tuple2=[4,5,6]\n",
    "result=list(map(lambda x,y:x+y,tuple1,tuple2))\n",
    "result"
   ]
  },
  {
   "cell_type": "code",
   "execution_count": 97,
   "id": "619f0003",
   "metadata": {},
   "outputs": [
    {
     "data": {
      "text/plain": [
       "[8, 30, 49]"
      ]
     },
     "execution_count": 97,
     "metadata": {},
     "output_type": "execute_result"
    }
   ],
   "source": [
    "#suite question 3\n",
    "#* Write a function that multiplies the elements of an integer list.\n",
    "\n",
    "tuple1=[2,6,7]\n",
    "tuple2=[4,5,7]\n",
    "result=list(map(lambda x,y:x*y,tuple1,tuple2))\n",
    "result"
   ]
  },
  {
   "cell_type": "code",
   "execution_count": null,
   "id": "3d36000a",
   "metadata": {},
   "outputs": [],
   "source": [
    "#suite question 3\n",
    "#* Use the two functions to sum the elements whose position is an even number (0,2,4…) and multiply the rest.\n",
    "#Hint: Consider extracting two lists from a first list \n",
    "\n",
    "list\n"
   ]
  },
  {
   "cell_type": "code",
   "execution_count": 101,
   "id": "2a353f35",
   "metadata": {},
   "outputs": [
    {
     "name": "stdout",
     "output_type": "stream",
     "text": [
      "green-red-yellow-black-white\n",
      "black-green-red-white-yellow\n"
     ]
    }
   ],
   "source": [
    "#question 4 \n",
    "items=[n for n in input().split('-')]\n",
    "items.sort()\n",
    "print('-'.join(items))"
   ]
  },
  {
   "cell_type": "code",
   "execution_count": null,
   "id": "719c3db6",
   "metadata": {},
   "outputs": [],
   "source": []
  }
 ],
 "metadata": {
  "kernelspec": {
   "display_name": "Python 3",
   "language": "python",
   "name": "python3"
  },
  "language_info": {
   "codemirror_mode": {
    "name": "ipython",
    "version": 3
   },
   "file_extension": ".py",
   "mimetype": "text/x-python",
   "name": "python",
   "nbconvert_exporter": "python",
   "pygments_lexer": "ipython3",
   "version": "3.8.8"
  }
 },
 "nbformat": 4,
 "nbformat_minor": 5
}
