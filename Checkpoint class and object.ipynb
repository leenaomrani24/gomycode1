{
 "cells": [
  {
   "cell_type": "code",
   "execution_count": 11,
   "id": "94e58ce4",
   "metadata": {},
   "outputs": [
    {
     "name": "stdout",
     "output_type": "stream",
     "text": [
      "(1, 2, 3)\n"
     ]
    }
   ],
   "source": [
    "#Write a python class named Point3D defined by x, y, and z. \n",
    "#Define a method that returns (x, y ,z). \n",
    "#This tells Python to represent this object in the following format: (x, y, z). \n",
    "#Then create a variable named my_point containing a new instance of Point3D with x=1, y=2, and z=3 and print it.\n",
    "\n",
    "class Point3D(object):\n",
    "    def __init__(self, x, y, z):\n",
    "        self.x = x\n",
    "        self.y = y\n",
    "        self.z = z \n",
    "    def __repr__(self):\n",
    "        return \"(%d, %d, %d)\" % (self.x, self.y, self.z)\n",
    "        \n",
    "my_point = Point3D(1,2,3)\n",
    "\n",
    "print(my_point)"
   ]
  },
  {
   "cell_type": "code",
   "execution_count": 17,
   "id": "d4d5be67",
   "metadata": {
    "scrolled": true
   },
   "outputs": [
    {
     "name": "stdout",
     "output_type": "stream",
     "text": [
      "14\n",
      "12\n"
     ]
    }
   ],
   "source": [
    "#Write a Python class named Rectangle constructed by a length and width. \n",
    "#Define two methods area and perimeter which will compute the area and the perimeter of the rectangle. \n",
    "#Then create a variable named my_rectangle containing a new instance of Rectangle with width=3 and length = 4 and compute both \n",
    "#of area and perimeter \n",
    "#(the area is expected to be 3*4=12 and perimeter 2*(3+4)=14)\n",
    "\n",
    "class Rectangle() :\n",
    "    def __init__(self,length,width):\n",
    "        self.length=length\n",
    "        self.width=width\n",
    "        \n",
    "    def calculate_perimeter(self):\n",
    "        return 2*(self.length+self.width)\n",
    "    def calculate_area(self):\n",
    "        return self.length*self.width\n",
    "\n",
    "Rectangle_1 = Rectangle(3,4)\n",
    "print(Rectangle_1.calculate_perimeter())\n",
    "\n",
    "Rectangle_2 = Rectangle(3,4)\n",
    "print(Rectangle_2.calculate_area())"
   ]
  },
  {
   "cell_type": "code",
   "execution_count": 22,
   "id": "5e6dd160",
   "metadata": {},
   "outputs": [
    {
     "name": "stdout",
     "output_type": "stream",
     "text": [
      "Enter radius of circle: 8\n"
     ]
    },
    {
     "ename": "TypeError",
     "evalue": "type tuple doesn't define __round__ method",
     "output_type": "error",
     "traceback": [
      "\u001b[0;31m---------------------------------------------------------------------------\u001b[0m",
      "\u001b[0;31mTypeError\u001b[0m                                 Traceback (most recent call last)",
      "\u001b[0;32m<ipython-input-22-c690c4ef3847>\u001b[0m in \u001b[0;36m<module>\u001b[0;34m\u001b[0m\n\u001b[1;32m     14\u001b[0m \u001b[0mr\u001b[0m\u001b[0;34m=\u001b[0m\u001b[0mint\u001b[0m\u001b[0;34m(\u001b[0m\u001b[0minput\u001b[0m\u001b[0;34m(\u001b[0m\u001b[0;34m\"Enter radius of circle: \"\u001b[0m\u001b[0;34m)\u001b[0m\u001b[0;34m)\u001b[0m\u001b[0;34m\u001b[0m\u001b[0;34m\u001b[0m\u001b[0m\n\u001b[1;32m     15\u001b[0m \u001b[0mobj\u001b[0m\u001b[0;34m=\u001b[0m\u001b[0mCircle\u001b[0m\u001b[0;34m(\u001b[0m\u001b[0mr\u001b[0m\u001b[0;34m)\u001b[0m\u001b[0;34m\u001b[0m\u001b[0;34m\u001b[0m\u001b[0m\n\u001b[0;32m---> 16\u001b[0;31m \u001b[0mprint\u001b[0m\u001b[0;34m(\u001b[0m\u001b[0;34m\"Area of circle:\"\u001b[0m\u001b[0;34m,\u001b[0m\u001b[0mround\u001b[0m\u001b[0;34m(\u001b[0m\u001b[0mobj\u001b[0m\u001b[0;34m.\u001b[0m\u001b[0marea\u001b[0m\u001b[0;34m(\u001b[0m\u001b[0;34m)\u001b[0m\u001b[0;34m,\u001b[0m\u001b[0;36m2\u001b[0m\u001b[0;34m)\u001b[0m\u001b[0;34m)\u001b[0m\u001b[0;34m\u001b[0m\u001b[0;34m\u001b[0m\u001b[0m\n\u001b[0m\u001b[1;32m     17\u001b[0m \u001b[0mprint\u001b[0m\u001b[0;34m(\u001b[0m\u001b[0;34m\"Perimeter of circle:\"\u001b[0m\u001b[0;34m,\u001b[0m\u001b[0mround\u001b[0m\u001b[0;34m(\u001b[0m\u001b[0mobj\u001b[0m\u001b[0;34m.\u001b[0m\u001b[0mperimeter\u001b[0m\u001b[0;34m(\u001b[0m\u001b[0;34m)\u001b[0m\u001b[0;34m,\u001b[0m\u001b[0;36m2\u001b[0m\u001b[0;34m)\u001b[0m\u001b[0;34m)\u001b[0m\u001b[0;34m\u001b[0m\u001b[0;34m\u001b[0m\u001b[0m\n\u001b[1;32m     18\u001b[0m \u001b[0;34m\u001b[0m\u001b[0m\n",
      "\u001b[0;31mTypeError\u001b[0m: type tuple doesn't define __round__ method"
     ]
    }
   ],
   "source": [
    "#Write a Python  class named Circle constructed by its center O and radius r. \n",
    "#Define two methods area and perimeter which will compute the area and the perimeter \n",
    "#of the circle, and isInside() method of the class which allows to test whether\n",
    "#a point A(x, y) belongs to the circle C(O, r) or not.\n",
    "\n",
    "class Circle :\n",
    "    def __init__(self,r):\n",
    "        self.radius=r\n",
    "    def area(self):\n",
    "        return self.radius**2*3,14\n",
    "    def perimeter(self):\n",
    "        return 2*3,14*r\n",
    "\n",
    "r=int(input(\"Enter radius of circle: \"))\n",
    "obj=Circle(r)\n",
    "print(\"Area of circle:\",round(obj.area(),2))\n",
    "print(\"Perimeter of circle:\",round(obj.perimeter(),2))\n",
    "\n",
    "\n",
    "\n",
    "\n"
   ]
  },
  {
   "cell_type": "code",
   "execution_count": 24,
   "id": "08272eae",
   "metadata": {},
   "outputs": [
    {
     "ename": "IndentationError",
     "evalue": "unindent does not match any outer indentation level (<tokenize>, line 21)",
     "output_type": "error",
     "traceback": [
      "\u001b[0;36m  File \u001b[0;32m\"<tokenize>\"\u001b[0;36m, line \u001b[0;32m21\u001b[0m\n\u001b[0;31m    def display(self):\u001b[0m\n\u001b[0m    ^\u001b[0m\n\u001b[0;31mIndentationError\u001b[0m\u001b[0;31m:\u001b[0m unindent does not match any outer indentation level\n"
     ]
    }
   ],
   "source": [
    "#Suppose we want to model a bank account with support for deposit and withdraw operations. \n",
    "#Let’s create a python class named bank defined by its balance. \n",
    "#Define two methods deposit and withdraw to compute the new amount of each operation.\n",
    "\n",
    "class Bank():\n",
    "    def __init__(self):\n",
    "        self.balance=0\n",
    "        print(\"Welcome to your bank account!\")\n",
    "    def deposit(self):\n",
    "        deposit=float(input(\"Enter the amount to be deposited: \"))\n",
    "        self.balance=balance\n",
    "        print(\"you deposited :\", balance)\n",
    "def withdraw(self):\n",
    "        amount = float(input(\"Enter amount to be Withdrawn: \"))\n",
    "        if self.balance>=amount:\n",
    "            self.balance-=amount\n",
    "            print(\"\\n You Withdrew:\", amount)\n",
    "        else:\n",
    "            print(\"\\n Insufficient balance  \")\n",
    "  def display(self):\n",
    "        print(\"\\n Net Available Balance=\",self.balance)\n",
    "s = Bank_Account()\n",
    "   \n",
    "\n",
    "s.deposit()\n",
    "s.withdraw()\n",
    "s.display()\n",
    "\n",
    "        \n",
    "     \n",
    "\n",
    "\n",
    "\n",
    "\n",
    "\n"
   ]
  },
  {
   "cell_type": "code",
   "execution_count": null,
   "id": "4efeefbd",
   "metadata": {},
   "outputs": [],
   "source": []
  }
 ],
 "metadata": {
  "kernelspec": {
   "display_name": "Python 3",
   "language": "python",
   "name": "python3"
  },
  "language_info": {
   "codemirror_mode": {
    "name": "ipython",
    "version": 3
   },
   "file_extension": ".py",
   "mimetype": "text/x-python",
   "name": "python",
   "nbconvert_exporter": "python",
   "pygments_lexer": "ipython3",
   "version": "3.8.8"
  }
 },
 "nbformat": 4,
 "nbformat_minor": 5
}
