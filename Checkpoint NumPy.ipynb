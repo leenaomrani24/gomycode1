{
 "cells": [
  {
   "cell_type": "code",
   "execution_count": 6,
   "id": "ee7b4a3a",
   "metadata": {},
   "outputs": [
    {
     "name": "stdout",
     "output_type": "stream",
     "text": [
      "array('i', [1, 3, 5, 3, 7, 1, 9, 3])\n",
      "[1, 3, 5, 3, 7, 1, 9, 3]\n"
     ]
    }
   ],
   "source": [
    "#question 1\n",
    "from array import *\n",
    "array_num = array('i',[1, 3, 5, 3, 7, 1, 9, 3])\n",
    "print(str(array_num))\n",
    "num_list = array_num.tolist()\n",
    "print(num_list)"
   ]
  },
  {
   "cell_type": "code",
   "execution_count": null,
   "id": "32e140ee",
   "metadata": {},
   "outputs": [],
   "source": [
    "#question 2 \n",
    "import numpy as np \n",
    "array=np.eye(4)\n",
    "array=np.eye(4)\n",
    "a= "
   ]
  },
  {
   "cell_type": "code",
   "execution_count": 31,
   "id": "68ac1635",
   "metadata": {},
   "outputs": [],
   "source": [
    "import numpy as np\n",
    "x=np.array([[1,2],[3,4]], dtype=np.float16)\n",
    "y=np.array([[5,6],[7,8]], dtype=np.float16)\n",
    "z=np.add(x,y)"
   ]
  },
  {
   "cell_type": "code",
   "execution_count": 14,
   "id": "2c33c821",
   "metadata": {},
   "outputs": [],
   "source": [
    "#question 4\n",
    "import numpy as np\n",
    "A=np.array([1,2,3,4],dtype=np.float64)\n",
    "B=np.array([5,6,7,8],dtype=np.float64)\n",
    "C"
   ]
  },
  {
   "cell_type": "code",
   "execution_count": 37,
   "id": "c2f3a556",
   "metadata": {},
   "outputs": [],
   "source": [
    "#question5\n",
    "import numpy as np\n",
    "a=np.array([[1, 2], [3, 4]])\n",
    "b=np.mean(a, axis=1)\n"
   ]
  },
  {
   "cell_type": "code",
   "execution_count": null,
   "id": "555824a9",
   "metadata": {},
   "outputs": [],
   "source": []
  },
  {
   "cell_type": "code",
   "execution_count": null,
   "id": "beee11f2",
   "metadata": {},
   "outputs": [],
   "source": []
  }
 ],
 "metadata": {
  "kernelspec": {
   "display_name": "Python 3",
   "language": "python",
   "name": "python3"
  },
  "language_info": {
   "codemirror_mode": {
    "name": "ipython",
    "version": 3
   },
   "file_extension": ".py",
   "mimetype": "text/x-python",
   "name": "python",
   "nbconvert_exporter": "python",
   "pygments_lexer": "ipython3",
   "version": "3.8.8"
  }
 },
 "nbformat": 4,
 "nbformat_minor": 5
}
