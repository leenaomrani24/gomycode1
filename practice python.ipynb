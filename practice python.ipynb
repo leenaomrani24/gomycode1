{
 "cells": [
  {
   "cell_type": "code",
   "execution_count": 59,
   "id": "a0f1f14d",
   "metadata": {},
   "outputs": [
    {
     "name": "stdout",
     "output_type": "stream",
     "text": [
      " Omrani Leena\n"
     ]
    }
   ],
   "source": [
    "#question 1 \n",
    "str1 = \"Leena\"\n",
    "str2 = \" Omrani \"\n",
    "print( str2 + str1)"
   ]
  },
  {
   "cell_type": "code",
   "execution_count": 52,
   "id": "75a34dd5",
   "metadata": {},
   "outputs": [
    {
     "name": "stdout",
     "output_type": "stream",
     "text": [
      "615\n"
     ]
    }
   ],
   "source": [
    "#question 2 \n",
    "x = int(5)\n",
    "xx = int(55)\n",
    "xxx = int(555)\n",
    "print(x+xx+xxx)\n",
    "\n"
   ]
  },
  {
   "cell_type": "code",
   "execution_count": 49,
   "id": "8605c45c",
   "metadata": {},
   "outputs": [
    {
     "name": "stdout",
     "output_type": "stream",
     "text": [
      "X is an even number\n"
     ]
    }
   ],
   "source": [
    "#question 3 \n",
    "x=4 \n",
    "if x%2==0:\n",
    "    print('X is an even number')\n",
    "elif x%2!=0: \n",
    "    print('X is an odd number')\n",
    "\n"
   ]
  },
  {
   "cell_type": "code",
   "execution_count": 50,
   "id": "98ddaeda",
   "metadata": {},
   "outputs": [
    {
     "ename": "SyntaxError",
     "evalue": "invalid syntax (<ipython-input-50-216b0812c9eb>, line 2)",
     "output_type": "error",
     "traceback": [
      "\u001b[0;36m  File \u001b[0;32m\"<ipython-input-50-216b0812c9eb>\"\u001b[0;36m, line \u001b[0;32m2\u001b[0m\n\u001b[0;31m    for i in range(2000,3200)\u001b[0m\n\u001b[0m                             ^\u001b[0m\n\u001b[0;31mSyntaxError\u001b[0m\u001b[0;31m:\u001b[0m invalid syntax\n"
     ]
    }
   ],
   "source": [
    "#question 4\n",
    "\n"
   ]
  },
  {
   "cell_type": "code",
   "execution_count": 64,
   "id": "21f64532",
   "metadata": {},
   "outputs": [
    {
     "name": "stdout",
     "output_type": "stream",
     "text": [
      "Input a number to compute the factiorial : 7\n",
      "5040\n"
     ]
    }
   ],
   "source": [
    "#question 5\n",
    "\n",
    "def factorial(n):\n",
    "    if n == 0:\n",
    "        return 1\n",
    "    else:\n",
    "        return n * factorial(n-1)\n",
    "n=int(input(\"Input a number to compute the factiorial : \"))\n",
    "print(factorial(n))\n"
   ]
  },
  {
   "cell_type": "code",
   "execution_count": 63,
   "id": "6c26850c",
   "metadata": {},
   "outputs": [
    {
     "name": "stdout",
     "output_type": "stream",
     "text": [
      "H l o T a\n"
     ]
    }
   ],
   "source": [
    "#question 6 \n",
    "my_string = \"Hello Team\"\n",
    "print(my_string[0],my_string[2],my_string[4],my_string[6],my_string[8])\n"
   ]
  },
  {
   "cell_type": "code",
   "execution_count": null,
   "id": "04e7e898",
   "metadata": {},
   "outputs": [],
   "source": [
    "#question 7 \n",
    "n = int(input(\"Type a price :  \"))\n",
    "if n >= 500:\n",
    "    print(\"discount of 50%\")\n",
    "    elif n \n",
    "    "
   ]
  },
  {
   "cell_type": "code",
   "execution_count": null,
   "id": "0a091fd5",
   "metadata": {},
   "outputs": [],
   "source": []
  }
 ],
 "metadata": {
  "kernelspec": {
   "display_name": "Python 3",
   "language": "python",
   "name": "python3"
  },
  "language_info": {
   "codemirror_mode": {
    "name": "ipython",
    "version": 3
   },
   "file_extension": ".py",
   "mimetype": "text/x-python",
   "name": "python",
   "nbconvert_exporter": "python",
   "pygments_lexer": "ipython3",
   "version": "3.8.8"
  }
 },
 "nbformat": 4,
 "nbformat_minor": 5
}
